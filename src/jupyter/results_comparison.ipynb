{
 "cells": [
  {
   "cell_type": "code",
   "execution_count": 10,
   "metadata": {},
   "outputs": [
    {
     "ename": "FileNotFoundError",
     "evalue": "[Errno 2] No such file or directory: './src/jupyter/original.json'",
     "output_type": "error",
     "traceback": [
      "\u001b[0;31m---------------------------------------------------------------------------\u001b[0m",
      "\u001b[0;31mFileNotFoundError\u001b[0m                         Traceback (most recent call last)",
      "Cell \u001b[0;32mIn [10], line 8\u001b[0m\n\u001b[1;32m      5\u001b[0m original_file \u001b[38;5;241m=\u001b[39m \u001b[38;5;124m'\u001b[39m\u001b[38;5;124m./src/jupyter/original.json\u001b[39m\u001b[38;5;124m'\u001b[39m\n\u001b[1;32m      6\u001b[0m modified_file \u001b[38;5;241m=\u001b[39m \u001b[38;5;124m'\u001b[39m\u001b[38;5;124m./src/jupyter/modified.json\u001b[39m\u001b[38;5;124m'\u001b[39m\n\u001b[0;32m----> 8\u001b[0m \u001b[38;5;28;01mwith\u001b[39;00m \u001b[38;5;28;43mopen\u001b[39;49m\u001b[43m(\u001b[49m\u001b[43moriginal_file\u001b[49m\u001b[43m,\u001b[49m\u001b[43m \u001b[49m\u001b[38;5;124;43m'\u001b[39;49m\u001b[38;5;124;43mr\u001b[39;49m\u001b[38;5;124;43m'\u001b[39;49m\u001b[43m)\u001b[49m \u001b[38;5;28;01mas\u001b[39;00m o:\n\u001b[1;32m      9\u001b[0m   original \u001b[38;5;241m=\u001b[39m json\u001b[38;5;241m.\u001b[39mload(o)\n\u001b[1;32m     11\u001b[0m \u001b[38;5;28;01mwith\u001b[39;00m \u001b[38;5;28mopen\u001b[39m(modified_file, \u001b[38;5;124m'\u001b[39m\u001b[38;5;124mr\u001b[39m\u001b[38;5;124m'\u001b[39m) \u001b[38;5;28;01mas\u001b[39;00m m:\n",
      "\u001b[0;31mFileNotFoundError\u001b[0m: [Errno 2] No such file or directory: './src/jupyter/original.json'"
     ]
    }
   ],
   "source": [
    "import json\n",
    "import matplotlib.pyplot as plt\n",
    "from matplotlib_venn import venn2\n",
    "import pandas as pd\n",
    "original_file = './original.json'\n",
    "modified_file = './modified.json'\n",
    "\n",
    "with open(original_file, 'r') as o:\n",
    "  original = json.load(o)\n",
    "\n",
    "with open(modified_file, 'r') as m:\n",
    "  modified = json.load(m)"
   ]
  },
  {
   "cell_type": "code",
   "execution_count": 9,
   "metadata": {},
   "outputs": [
    {
     "ename": "NameError",
     "evalue": "name 'original' is not defined",
     "output_type": "error",
     "traceback": [
      "\u001b[0;31m---------------------------------------------------------------------------\u001b[0m",
      "\u001b[0;31mNameError\u001b[0m                                 Traceback (most recent call last)",
      "Cell \u001b[0;32mIn [9], line 1\u001b[0m\n\u001b[0;32m----> 1\u001b[0m ori_df \u001b[38;5;241m=\u001b[39m pd\u001b[38;5;241m.\u001b[39mDataFrame(\u001b[43moriginal\u001b[49m)\n\u001b[1;32m      2\u001b[0m mod_df \u001b[38;5;241m=\u001b[39m pd\u001b[38;5;241m.\u001b[39mDataFrame(modified)\n",
      "\u001b[0;31mNameError\u001b[0m: name 'original' is not defined"
     ]
    }
   ],
   "source": [
    "ori_df = pd.DataFrame(original)\n",
    "mod_df = pd.DataFrame(modified)"
   ]
  },
  {
   "cell_type": "code",
   "execution_count": null,
   "metadata": {},
   "outputs": [
    {
     "data": {
      "text/html": [
       "<div>\n",
       "<style scoped>\n",
       "    .dataframe tbody tr th:only-of-type {\n",
       "        vertical-align: middle;\n",
       "    }\n",
       "\n",
       "    .dataframe tbody tr th {\n",
       "        vertical-align: top;\n",
       "    }\n",
       "\n",
       "    .dataframe thead th {\n",
       "        text-align: right;\n",
       "    }\n",
       "</style>\n",
       "<table border=\"1\" class=\"dataframe\">\n",
       "  <thead>\n",
       "    <tr style=\"text-align: right;\">\n",
       "      <th></th>\n",
       "      <th>geneSymbol</th>\n",
       "      <th>geneIdentifier</th>\n",
       "      <th>combinedScore</th>\n",
       "      <th>priorityScore</th>\n",
       "      <th>variantScore</th>\n",
       "      <th>pValue</th>\n",
       "      <th>priorityResults</th>\n",
       "      <th>compatibleInheritanceModes</th>\n",
       "      <th>geneScores</th>\n",
       "      <th>variantEvaluations</th>\n",
       "      <th>compatibleGeneScores</th>\n",
       "      <th>associatedDiseases</th>\n",
       "    </tr>\n",
       "  </thead>\n",
       "  <tbody>\n",
       "    <tr>\n",
       "      <th>0</th>\n",
       "      <td>DDX56</td>\n",
       "      <td>{'geneId': 'ENSG00000136271', 'geneSymbol': 'D...</td>\n",
       "      <td>0.763548</td>\n",
       "      <td>0.508362</td>\n",
       "      <td>0.999170</td>\n",
       "      <td>0.000710</td>\n",
       "      <td>{'HIPHIVE_PRIORITY': {'priorityType': 'HIPHIVE...</td>\n",
       "      <td>[AUTOSOMAL_DOMINANT]</td>\n",
       "      <td>[{'geneIdentifier': {'geneId': 'ENSG0000013627...</td>\n",
       "      <td>[{'genomeAssembly': 'HG19', 'contigName': '7',...</td>\n",
       "      <td>[{'geneIdentifier': {'geneId': 'ENSG0000013627...</td>\n",
       "      <td>NaN</td>\n",
       "    </tr>\n",
       "    <tr>\n",
       "      <th>1</th>\n",
       "      <td>BDKRB1</td>\n",
       "      <td>{'geneId': 'ENSG00000100739', 'geneSymbol': 'B...</td>\n",
       "      <td>0.751163</td>\n",
       "      <td>0.501144</td>\n",
       "      <td>1.000000</td>\n",
       "      <td>0.000732</td>\n",
       "      <td>{'HIPHIVE_PRIORITY': {'priorityType': 'HIPHIVE...</td>\n",
       "      <td>[AUTOSOMAL_DOMINANT]</td>\n",
       "      <td>[{'geneIdentifier': {'geneId': 'ENSG0000010073...</td>\n",
       "      <td>[{'genomeAssembly': 'HG19', 'contigName': '14'...</td>\n",
       "      <td>[{'geneIdentifier': {'geneId': 'ENSG0000010073...</td>\n",
       "      <td>NaN</td>\n",
       "    </tr>\n",
       "    <tr>\n",
       "      <th>2</th>\n",
       "      <td>KRT4</td>\n",
       "      <td>{'geneId': 'ENSG00000170477', 'geneSymbol': 'K...</td>\n",
       "      <td>0.748943</td>\n",
       "      <td>0.500005</td>\n",
       "      <td>1.000000</td>\n",
       "      <td>0.000931</td>\n",
       "      <td>{'HIPHIVE_PRIORITY': {'priorityType': 'HIPHIVE...</td>\n",
       "      <td>[AUTOSOMAL_DOMINANT]</td>\n",
       "      <td>[{'geneIdentifier': {'geneId': 'ENSG0000017047...</td>\n",
       "      <td>[{'genomeAssembly': 'HG19', 'contigName': '12'...</td>\n",
       "      <td>[{'geneIdentifier': {'geneId': 'ENSG0000017047...</td>\n",
       "      <td>[{'diseaseId': 'OMIM:193900', 'diseaseName': '...</td>\n",
       "    </tr>\n",
       "    <tr>\n",
       "      <th>3</th>\n",
       "      <td>ENPP1</td>\n",
       "      <td>{'geneId': 'ENSG00000197594', 'geneSymbol': 'E...</td>\n",
       "      <td>0.748863</td>\n",
       "      <td>0.500353</td>\n",
       "      <td>0.999560</td>\n",
       "      <td>0.000954</td>\n",
       "      <td>{'HIPHIVE_PRIORITY': {'priorityType': 'HIPHIVE...</td>\n",
       "      <td>[AUTOSOMAL_DOMINANT]</td>\n",
       "      <td>[{'geneIdentifier': {'geneId': 'ENSG0000019759...</td>\n",
       "      <td>[{'genomeAssembly': 'HG19', 'contigName': '6',...</td>\n",
       "      <td>[{'geneIdentifier': {'geneId': 'ENSG0000019759...</td>\n",
       "      <td>[{'diseaseId': 'OMIM:125853', 'diseaseName': '...</td>\n",
       "    </tr>\n",
       "    <tr>\n",
       "      <th>4</th>\n",
       "      <td>MUC6</td>\n",
       "      <td>{'geneId': 'ENSG00000184956', 'geneSymbol': 'M...</td>\n",
       "      <td>0.747710</td>\n",
       "      <td>0.500219</td>\n",
       "      <td>0.999044</td>\n",
       "      <td>0.001142</td>\n",
       "      <td>{'HIPHIVE_PRIORITY': {'priorityType': 'HIPHIVE...</td>\n",
       "      <td>[AUTOSOMAL_DOMINANT, AUTOSOMAL_RECESSIVE]</td>\n",
       "      <td>[{'geneIdentifier': {'geneId': 'ENSG0000018495...</td>\n",
       "      <td>[{'genomeAssembly': 'HG19', 'contigName': '11'...</td>\n",
       "      <td>[{'geneIdentifier': {'geneId': 'ENSG0000018495...</td>\n",
       "      <td>NaN</td>\n",
       "    </tr>\n",
       "  </tbody>\n",
       "</table>\n",
       "</div>"
      ],
      "text/plain": [
       "  geneSymbol                                     geneIdentifier  \\\n",
       "0      DDX56  {'geneId': 'ENSG00000136271', 'geneSymbol': 'D...   \n",
       "1     BDKRB1  {'geneId': 'ENSG00000100739', 'geneSymbol': 'B...   \n",
       "2       KRT4  {'geneId': 'ENSG00000170477', 'geneSymbol': 'K...   \n",
       "3      ENPP1  {'geneId': 'ENSG00000197594', 'geneSymbol': 'E...   \n",
       "4       MUC6  {'geneId': 'ENSG00000184956', 'geneSymbol': 'M...   \n",
       "\n",
       "   combinedScore  priorityScore  variantScore    pValue  \\\n",
       "0       0.763548       0.508362      0.999170  0.000710   \n",
       "1       0.751163       0.501144      1.000000  0.000732   \n",
       "2       0.748943       0.500005      1.000000  0.000931   \n",
       "3       0.748863       0.500353      0.999560  0.000954   \n",
       "4       0.747710       0.500219      0.999044  0.001142   \n",
       "\n",
       "                                     priorityResults  \\\n",
       "0  {'HIPHIVE_PRIORITY': {'priorityType': 'HIPHIVE...   \n",
       "1  {'HIPHIVE_PRIORITY': {'priorityType': 'HIPHIVE...   \n",
       "2  {'HIPHIVE_PRIORITY': {'priorityType': 'HIPHIVE...   \n",
       "3  {'HIPHIVE_PRIORITY': {'priorityType': 'HIPHIVE...   \n",
       "4  {'HIPHIVE_PRIORITY': {'priorityType': 'HIPHIVE...   \n",
       "\n",
       "                  compatibleInheritanceModes  \\\n",
       "0                       [AUTOSOMAL_DOMINANT]   \n",
       "1                       [AUTOSOMAL_DOMINANT]   \n",
       "2                       [AUTOSOMAL_DOMINANT]   \n",
       "3                       [AUTOSOMAL_DOMINANT]   \n",
       "4  [AUTOSOMAL_DOMINANT, AUTOSOMAL_RECESSIVE]   \n",
       "\n",
       "                                          geneScores  \\\n",
       "0  [{'geneIdentifier': {'geneId': 'ENSG0000013627...   \n",
       "1  [{'geneIdentifier': {'geneId': 'ENSG0000010073...   \n",
       "2  [{'geneIdentifier': {'geneId': 'ENSG0000017047...   \n",
       "3  [{'geneIdentifier': {'geneId': 'ENSG0000019759...   \n",
       "4  [{'geneIdentifier': {'geneId': 'ENSG0000018495...   \n",
       "\n",
       "                                  variantEvaluations  \\\n",
       "0  [{'genomeAssembly': 'HG19', 'contigName': '7',...   \n",
       "1  [{'genomeAssembly': 'HG19', 'contigName': '14'...   \n",
       "2  [{'genomeAssembly': 'HG19', 'contigName': '12'...   \n",
       "3  [{'genomeAssembly': 'HG19', 'contigName': '6',...   \n",
       "4  [{'genomeAssembly': 'HG19', 'contigName': '11'...   \n",
       "\n",
       "                                compatibleGeneScores  \\\n",
       "0  [{'geneIdentifier': {'geneId': 'ENSG0000013627...   \n",
       "1  [{'geneIdentifier': {'geneId': 'ENSG0000010073...   \n",
       "2  [{'geneIdentifier': {'geneId': 'ENSG0000017047...   \n",
       "3  [{'geneIdentifier': {'geneId': 'ENSG0000019759...   \n",
       "4  [{'geneIdentifier': {'geneId': 'ENSG0000018495...   \n",
       "\n",
       "                                  associatedDiseases  \n",
       "0                                                NaN  \n",
       "1                                                NaN  \n",
       "2  [{'diseaseId': 'OMIM:193900', 'diseaseName': '...  \n",
       "3  [{'diseaseId': 'OMIM:125853', 'diseaseName': '...  \n",
       "4                                                NaN  "
      ]
     },
     "execution_count": 8,
     "metadata": {},
     "output_type": "execute_result"
    }
   ],
   "source": [
    "mod_df.head()"
   ]
  },
  {
   "cell_type": "code",
   "execution_count": 7,
   "metadata": {},
   "outputs": [],
   "source": [
    "def exomiser_results_comparator(df1: pd.DataFrame, df2: pd.DataFrame, column='combinedScore') -> float:\n",
    "  valid_columns=['combinedScore','priorityScore','variantScore','pValue']\n",
    "  if column not in valid_columns:\n",
    "      raise ValueError(\"Wrong status\")\n",
    "  dic = {}\n",
    "  symbols = df1['geneSymbol'].unique()\n",
    "  for s in symbols:\n",
    "    sub_mod = df2.query(f\"geneSymbol == '{s}'\")\n",
    "    if sub_mod is not None:\n",
    "      sub_ori = df1.query(f\"geneSymbol == '{s}'\")\n",
    "      orig_value = sub_ori[column].values[0]\n",
    "      mod_value = sub_mod[column].values[0]\n",
    "      pct = (orig_value / mod_value) * 100\n",
    "      dic[s] = {'symbol':sub_ori['geneSymbol'].values[0],\n",
    "      'orig':orig_value,\n",
    "      'mod': mod_value,\n",
    "      'pct_change': (mod_value - orig_value) / orig_value * 100.0 if orig_value != 0 else float(\"inf\") * abs(mod_value) / mod_value if mod_value != 0 else 0.0}\n",
    "  return dic\n",
    "  \n",
    "  "
   ]
  },
  {
   "cell_type": "code",
   "execution_count": 8,
   "metadata": {},
   "outputs": [
    {
     "ename": "NameError",
     "evalue": "name 'ori_df' is not defined",
     "output_type": "error",
     "traceback": [
      "\u001b[0;31m---------------------------------------------------------------------------\u001b[0m",
      "\u001b[0;31mNameError\u001b[0m                                 Traceback (most recent call last)",
      "Cell \u001b[0;32mIn [8], line 1\u001b[0m\n\u001b[0;32m----> 1\u001b[0m pd\u001b[38;5;241m.\u001b[39mDataFrame(exomiser_results_comparator(\u001b[43mori_df\u001b[49m,mod_df, column\u001b[38;5;241m=\u001b[39m\u001b[38;5;124m'\u001b[39m\u001b[38;5;124mcombinedScore\u001b[39m\u001b[38;5;124m'\u001b[39m))\u001b[38;5;241m.\u001b[39mT\n",
      "\u001b[0;31mNameError\u001b[0m: name 'ori_df' is not defined"
     ]
    }
   ],
   "source": [
    "pd.DataFrame(exomiser_results_comparator(ori_df,mod_df, column='combinedScore')).T"
   ]
  }
 ],
 "metadata": {
  "kernelspec": {
   "display_name": "Python 3.8.10 64-bit",
   "language": "python",
   "name": "python3"
  },
  "language_info": {
   "codemirror_mode": {
    "name": "ipython",
    "version": 3
   },
   "file_extension": ".py",
   "mimetype": "text/x-python",
   "name": "python",
   "nbconvert_exporter": "python",
   "pygments_lexer": "ipython3",
   "version": "3.8.10"
  },
  "orig_nbformat": 4,
  "vscode": {
   "interpreter": {
    "hash": "916dbcbb3f70747c44a77c7bcd40155683ae19c65e1c03b4aa3499c5328201f1"
   }
  }
 },
 "nbformat": 4,
 "nbformat_minor": 2
}
