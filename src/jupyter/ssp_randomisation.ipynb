{
 "cells": [
  {
   "cell_type": "code",
   "execution_count": 97,
   "metadata": {},
   "outputs": [],
   "source": [
    "import pandas as pd\n",
    "import random\n",
    "random.seed(10)\n",
    "df = pd.read_csv('../../data/hp_zp_mappings.csv')"
   ]
  },
  {
   "cell_type": "code",
   "execution_count": 98,
   "metadata": {},
   "outputs": [],
   "source": [
    "def rand(self, min_num, max_num, scrambe_factor) -> float:\n",
    "  return self + (random.uniform(min_num, max_num) * scrambe_factor)\n",
    "\n",
    "def ssp_randomisation(df, scramble_factor = 0.5) -> pd.DataFrame:\n",
    "  \"\"\"\n",
    "   Takes as input a pandas dataframe with the semantic similarity profile and a value between 0 and 1 (scramble_factor: 0 means no scrambling and 1 means complete randomisation). It then randomises the above scores with a degree of the scramble_factor and returns a scrambles pandas dataframe.\n",
    "  \"\"\"\n",
    "  df_copy = df.copy()\n",
    "  columns=['SIMJ','IC','SCORE']\n",
    "  for c in columns:\n",
    "    min_num = df_copy[c].min()\n",
    "    max_num = df_copy[c].max()\n",
    "    df_copy[c] = df_copy[c].apply(rand, args=(min_num, max_num, scramble_factor))\n",
    "  return df_copy"
   ]
  },
  {
   "cell_type": "code",
   "execution_count": 99,
   "metadata": {},
   "outputs": [
    {
     "data": {
      "text/html": [
       "<div>\n",
       "<style scoped>\n",
       "    .dataframe tbody tr th:only-of-type {\n",
       "        vertical-align: middle;\n",
       "    }\n",
       "\n",
       "    .dataframe tbody tr th {\n",
       "        vertical-align: top;\n",
       "    }\n",
       "\n",
       "    .dataframe thead th {\n",
       "        text-align: right;\n",
       "    }\n",
       "</style>\n",
       "<table border=\"1\" class=\"dataframe\">\n",
       "  <thead>\n",
       "    <tr style=\"text-align: right;\">\n",
       "      <th></th>\n",
       "      <th>MAPPING_ID</th>\n",
       "      <th>HP_ID</th>\n",
       "      <th>HP_TERM</th>\n",
       "      <th>ZP_ID</th>\n",
       "      <th>ZP_TERM</th>\n",
       "      <th>SIMJ</th>\n",
       "      <th>IC</th>\n",
       "      <th>SCORE</th>\n",
       "      <th>LCS_ID</th>\n",
       "      <th>LCS_TERM</th>\n",
       "    </tr>\n",
       "  </thead>\n",
       "  <tbody>\n",
       "    <tr>\n",
       "      <th>0</th>\n",
       "      <td>0</td>\n",
       "      <td>HP:0031549</td>\n",
       "      <td>Lymphocytoma cutis</td>\n",
       "      <td>ZP:0141666</td>\n",
       "      <td>NaN</td>\n",
       "      <td>0.349212</td>\n",
       "      <td>4.076961</td>\n",
       "      <td>1.186500</td>\n",
       "      <td>MP:0002006</td>\n",
       "      <td>NaN</td>\n",
       "    </tr>\n",
       "    <tr>\n",
       "      <th>1</th>\n",
       "      <td>1</td>\n",
       "      <td>HP:0031549</td>\n",
       "      <td>Lymphocytoma cutis</td>\n",
       "      <td>ZP:0141512</td>\n",
       "      <td>NaN</td>\n",
       "      <td>0.313624</td>\n",
       "      <td>4.236618</td>\n",
       "      <td>1.104277</td>\n",
       "      <td>MP:0002006</td>\n",
       "      <td>NaN</td>\n",
       "    </tr>\n",
       "    <tr>\n",
       "      <th>2</th>\n",
       "      <td>2</td>\n",
       "      <td>HP:0031549</td>\n",
       "      <td>Lymphocytoma cutis</td>\n",
       "      <td>ZP:0021646</td>\n",
       "      <td>NaN</td>\n",
       "      <td>0.264450</td>\n",
       "      <td>4.356822</td>\n",
       "      <td>1.021153</td>\n",
       "      <td>MP:0002006</td>\n",
       "      <td>NaN</td>\n",
       "    </tr>\n",
       "    <tr>\n",
       "      <th>3</th>\n",
       "      <td>3</td>\n",
       "      <td>HP:0031549</td>\n",
       "      <td>Lymphocytoma cutis</td>\n",
       "      <td>ZP:0102137</td>\n",
       "      <td>NaN</td>\n",
       "      <td>0.335082</td>\n",
       "      <td>4.070427</td>\n",
       "      <td>1.198177</td>\n",
       "      <td>MP:0002006</td>\n",
       "      <td>NaN</td>\n",
       "    </tr>\n",
       "    <tr>\n",
       "      <th>4</th>\n",
       "      <td>4</td>\n",
       "      <td>HP:0031549</td>\n",
       "      <td>Lymphocytoma cutis</td>\n",
       "      <td>ZP:0102138</td>\n",
       "      <td>NaN</td>\n",
       "      <td>0.395721</td>\n",
       "      <td>4.314923</td>\n",
       "      <td>1.247722</td>\n",
       "      <td>MP:0002006</td>\n",
       "      <td>NaN</td>\n",
       "    </tr>\n",
       "  </tbody>\n",
       "</table>\n",
       "</div>"
      ],
      "text/plain": [
       "   MAPPING_ID       HP_ID             HP_TERM       ZP_ID ZP_TERM      SIMJ  \\\n",
       "0           0  HP:0031549  Lymphocytoma cutis  ZP:0141666     NaN  0.349212   \n",
       "1           1  HP:0031549  Lymphocytoma cutis  ZP:0141512     NaN  0.313624   \n",
       "2           2  HP:0031549  Lymphocytoma cutis  ZP:0021646     NaN  0.264450   \n",
       "3           3  HP:0031549  Lymphocytoma cutis  ZP:0102137     NaN  0.335082   \n",
       "4           4  HP:0031549  Lymphocytoma cutis  ZP:0102138     NaN  0.395721   \n",
       "\n",
       "         IC     SCORE      LCS_ID LCS_TERM  \n",
       "0  4.076961  1.186500  MP:0002006      NaN  \n",
       "1  4.236618  1.104277  MP:0002006      NaN  \n",
       "2  4.356822  1.021153  MP:0002006      NaN  \n",
       "3  4.070427  1.198177  MP:0002006      NaN  \n",
       "4  4.314923  1.247722  MP:0002006      NaN  "
      ]
     },
     "execution_count": 99,
     "metadata": {},
     "output_type": "execute_result"
    }
   ],
   "source": [
    "test_sample = ssp_randomisation(df, 0.1)\n",
    "test_sample.head()"
   ]
  }
 ],
 "metadata": {
  "kernelspec": {
   "display_name": "Python 3.8.10 64-bit",
   "language": "python",
   "name": "python3"
  },
  "language_info": {
   "codemirror_mode": {
    "name": "ipython",
    "version": 3
   },
   "file_extension": ".py",
   "mimetype": "text/x-python",
   "name": "python",
   "nbconvert_exporter": "python",
   "pygments_lexer": "ipython3",
   "version": "3.8.10"
  },
  "orig_nbformat": 4,
  "vscode": {
   "interpreter": {
    "hash": "916dbcbb3f70747c44a77c7bcd40155683ae19c65e1c03b4aa3499c5328201f1"
   }
  }
 },
 "nbformat": 4,
 "nbformat_minor": 2
}
